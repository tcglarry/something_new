{
  "nbformat": 4,
  "nbformat_minor": 0,
  "metadata": {
    "colab": {
      "name": "Alicia_homework_20200103.ipynb",
      "provenance": [],
      "collapsed_sections": [],
      "include_colab_link": true
    },
    "kernelspec": {
      "name": "python3",
      "display_name": "Python 3"
    }
  },
  "cells": [
    {
      "cell_type": "markdown",
      "metadata": {
        "id": "view-in-github",
        "colab_type": "text"
      },
      "source": [
        "<a href=\"https://colab.research.google.com/github/tcglarry/something_new/blob/master/Alicia_homework_20200103.ipynb\" target=\"_parent\"><img src=\"https://colab.research.google.com/assets/colab-badge.svg\" alt=\"Open In Colab\"/></a>"
      ]
    },
    {
      "cell_type": "markdown",
      "metadata": {
        "id": "UKu3_HNl8mge",
        "colab_type": "text"
      },
      "source": [
        "## Homework zipcode"
      ]
    },
    {
      "cell_type": "markdown",
      "metadata": {
        "id": "c51EVdaX8zXd",
        "colab_type": "text"
      },
      "source": [
        "### 下面 zipcode 存放台北市，基隆市，新北市各區的郵遞區號\n",
        "### Q1.如何透過迴圈把台北市的所有郵遞區號列出 \n",
        "### Q2.如何輸入一個區域名稱，找出這個區域所代表的郵遞區號?  (ex. 輸入:信義區 回傳: ('台北市',110) , ('基隆市',201))\n",
        "### Q3.如何輸入一個郵遞區號後，找出這個郵遞區號所代表的區域? (ex. 輸入:106  回傳:大安區)\n"
      ]
    },
    {
      "cell_type": "code",
      "metadata": {
        "id": "CoUs8YBX8uit",
        "colab_type": "code",
        "colab": {}
      },
      "source": [
        "zipcode = {\"台北市\":{\"中正區\": 100, \"大同區\": 103, \"中山區\": 104, \"松山區\": 105, \n",
        "                  \"大安區\": 106, \"萬華區\": 108, \"信義區\": 110, \"士林區\": 111,\n",
        "                  \"北投區\": 112, \"內湖區\": 114, \"南港區\": 115, \"文山區\": 116}, \n",
        "           \"基隆市\":{\"仁愛區\": 200, \"信義區\": 201, \"中正區\": 202, \"中山區\": 203, \n",
        "                  \"安樂區\": 204, \"暖暖區\": 205, \"七堵區\": 206},\n",
        "           \"新北市\": {\"萬里區\": 207, \"金山區\": 208, \"板橋區\": 220, \"汐止區\": 221,\n",
        "                   \"深坑區\": 222, \"石碇區\": 223, \"瑞芳區\": 224, \"平溪區\": 226, \n",
        "                   \"雙溪區\": 227, \"貢寮區\": 228, \"新店區\": 231, \"坪林區\": 232, \n",
        "                   \"烏來區\": 233, \"永和區\": 234, \"中和區\": 235, \"土城區\": 236, \n",
        "                   \"三峽區\": 237, \"樹林區\": 238, \"鶯歌區\": 239, \"三重區\": 241, \n",
        "                   \"新莊區\": 242, \"泰山區\": 243, \"林口區\": 244, \"蘆洲區\": 247, \n",
        "                   \"五股區\": 248, \"八里區\": 249, \"淡水區\": 251, \"三芝區\": 252, \n",
        "                   \"石門區\": 253}}\n"
      ],
      "execution_count": 0,
      "outputs": []
    },
    {
      "cell_type": "code",
      "metadata": {
        "id": "m9P4w0abAQTB",
        "colab_type": "code",
        "colab": {
          "base_uri": "https://localhost:8080/",
          "height": 34
        },
        "outputId": "e1188fa5-592d-4f53-8696-325536fe4321"
      },
      "source": [
        "list(zipcode.keys())"
      ],
      "execution_count": 16,
      "outputs": [
        {
          "output_type": "execute_result",
          "data": {
            "text/plain": [
              "['台北市', '基隆市', '新北市']"
            ]
          },
          "metadata": {
            "tags": []
          },
          "execution_count": 16
        }
      ]
    },
    {
      "cell_type": "code",
      "metadata": {
        "id": "Y_kpNQ3D9KaS",
        "colab_type": "code",
        "colab": {
          "base_uri": "https://localhost:8080/",
          "height": 221
        },
        "outputId": "2a59b822-bbc9-4929-a30e-51cc17fccc1c"
      },
      "source": [
        "taipei_zip = zipcode['台北市']\n",
        "for key in taipei_zip.keys():\n",
        "  print (f'{key}:{taipei_zip[key]}')"
      ],
      "execution_count": 6,
      "outputs": [
        {
          "output_type": "stream",
          "text": [
            "中正區:100\n",
            "大同區:103\n",
            "中山區:104\n",
            "松山區:105\n",
            "大安區:106\n",
            "萬華區:108\n",
            "信義區:110\n",
            "士林區:111\n",
            "北投區:112\n",
            "內湖區:114\n",
            "南港區:115\n",
            "文山區:116\n"
          ],
          "name": "stdout"
        }
      ]
    },
    {
      "cell_type": "code",
      "metadata": {
        "id": "T7Tjne20_Col",
        "colab_type": "code",
        "colab": {
          "base_uri": "https://localhost:8080/",
          "height": 51
        },
        "outputId": "8d4139f4-8ae6-448b-f7c0-9fad175cf128"
      },
      "source": [
        "\n",
        "area = '信義區'\n",
        "for i,item in enumerate(list(zipcode.values())):\n",
        "\n",
        "  if area in list(item.keys()):\n",
        "    print (f'{list(zipcode.keys())[i],item[area]}')\n"
      ],
      "execution_count": 29,
      "outputs": [
        {
          "output_type": "stream",
          "text": [
            "('台北市', 110)\n",
            "('基隆市', 201)\n"
          ],
          "name": "stdout"
        }
      ]
    },
    {
      "cell_type": "code",
      "metadata": {
        "id": "B-udenZy9dMh",
        "colab_type": "code",
        "colab": {
          "base_uri": "https://localhost:8080/",
          "height": 54
        },
        "outputId": "0705feb0-b4d3-429d-a16e-73cf76946505"
      },
      "source": [
        "def list_city(city):\n",
        "  print(zipcode.get(city))\n",
        "list_city('台北市')  "
      ],
      "execution_count": 7,
      "outputs": [
        {
          "output_type": "stream",
          "text": [
            "{'中正區': 100, '大同區': 103, '中山區': 104, '松山區': 105, '大安區': 106, '萬華區': 108, '信義區': 110, '士林區': 111, '北投區': 112, '內湖區': 114, '南港區': 115, '文山區': 116}\n"
          ],
          "name": "stdout"
        }
      ]
    },
    {
      "cell_type": "code",
      "metadata": {
        "id": "LfKFI1iqA1Va",
        "colab_type": "code",
        "colab": {
          "base_uri": "https://localhost:8080/",
          "height": 51
        },
        "outputId": "6b3f9d61-ed65-4fc7-a10c-a03f12938493"
      },
      "source": [
        "def area_to_zip(area):\n",
        "  for i,item in enumerate(list(zipcode.values())):\n",
        "\n",
        "    if area in list(item.keys()):\n",
        "      print (f'{list(zipcode.keys())[i],item[area]}')\n",
        "area_to_zip('信義區')"
      ],
      "execution_count": 30,
      "outputs": [
        {
          "output_type": "stream",
          "text": [
            "('台北市', 110)\n",
            "('基隆市', 201)\n"
          ],
          "name": "stdout"
        }
      ]
    },
    {
      "cell_type": "code",
      "metadata": {
        "id": "3EdBNFspD0lO",
        "colab_type": "code",
        "colab": {
          "base_uri": "https://localhost:8080/",
          "height": 51
        },
        "outputId": "c5d9219b-cd4e-48cf-80be-bdb38315204e"
      },
      "source": [
        "\n",
        "def area_to_zip(area):\n",
        "  for city,area_dict in zipcode.items():\n",
        "    if area in list(area_dict.keys()):\n",
        "      print (f'({city},{area_dict[area]})')\n",
        "\n",
        "area_to_zip('信義區')"
      ],
      "execution_count": 39,
      "outputs": [
        {
          "output_type": "stream",
          "text": [
            "(台北市,110)\n",
            "(基隆市,201)\n"
          ],
          "name": "stdout"
        }
      ]
    },
    {
      "cell_type": "code",
      "metadata": {
        "id": "RDYk-H0xEZ-h",
        "colab_type": "code",
        "colab": {
          "base_uri": "https://localhost:8080/",
          "height": 34
        },
        "outputId": "1a36a519-a2b9-467b-ca46-a2e908f632cc"
      },
      "source": [
        "\n",
        "def zip_to_area(zip_code):\n",
        "  for city,area_dict in zipcode.items():\n",
        "\n",
        "    if zip_code in list(area_dict.values()):\n",
        "\n",
        "      zip_idx = list(area_dict.values()).index(zip_code)\n",
        "      print (f'{list(area_dict.keys())[zip_idx]}')\n",
        "\n",
        "\n",
        "zip_to_area(106)"
      ],
      "execution_count": 54,
      "outputs": [
        {
          "output_type": "stream",
          "text": [
            "大安區\n"
          ],
          "name": "stdout"
        }
      ]
    },
    {
      "cell_type": "code",
      "metadata": {
        "id": "vd9JGmhwHM35",
        "colab_type": "code",
        "colab": {}
      },
      "source": [
        "\n"
      ],
      "execution_count": 0,
      "outputs": []
    },
    {
      "cell_type": "markdown",
      "metadata": {
        "id": "sUZTksQoIh1v",
        "colab_type": "text"
      },
      "source": [
        "## class Student"
      ]
    },
    {
      "cell_type": "code",
      "metadata": {
        "id": "kpMeLosdIkQH",
        "colab_type": "code",
        "colab": {}
      },
      "source": [
        "class Student:\n",
        "  def __init__(self,name,gender):\n",
        "    self.name = name\n",
        "    self.gender=gender\n",
        "    self.grades=[]\n",
        "  \n",
        "  def add_grade(self,grade):\n",
        "    self.grades.append(grade)\n",
        "  \n",
        "  def avg(self):\n",
        "    return sum(self.grades)/len(self.grades)\n",
        "  \n",
        "  def fcount(self):\n",
        "    return sum([i < 60 for i in self.grades])\n",
        "  \n",
        "  def __str__(self):\n",
        "    return f'Name:{self.name},Avg:{self.avg()},不及格:{self.fcount()}'\n",
        "    #return 'happy'\n",
        "  \n",
        "  @classmethod\n",
        "  def top(cls,*students):\n",
        "    for s in stduents:\n",
        "      print (s.avg())\n",
        "\n",
        "\n",
        "\n",
        "\n",
        "\n",
        "\n",
        "  "
      ],
      "execution_count": 0,
      "outputs": []
    },
    {
      "cell_type": "code",
      "metadata": {
        "id": "_AfXqutEKfzm",
        "colab_type": "code",
        "colab": {}
      },
      "source": [
        "s1 = Student('Tom','M')\n",
        "s2 = Student ('Jane','F')\n",
        "s3 = Student ('John','M')\n",
        "s4 = Student('Ann','F')\n",
        "s5 = Student('Peter','M')"
      ],
      "execution_count": 0,
      "outputs": []
    },
    {
      "cell_type": "code",
      "metadata": {
        "id": "FkF_cjrVPeTm",
        "colab_type": "code",
        "colab": {}
      },
      "source": [
        "s1.add_grade(80)\n",
        "s1.add_grade(90)\n",
        "s1.add_grade(55)\n",
        "s1.add_grade(77)\n",
        "s1.add_grade(40)"
      ],
      "execution_count": 0,
      "outputs": []
    },
    {
      "cell_type": "code",
      "metadata": {
        "id": "hgeDJigwPwOt",
        "colab_type": "code",
        "colab": {
          "base_uri": "https://localhost:8080/",
          "height": 34
        },
        "outputId": "b44eb894-b7ee-4b15-9761-05fb34614d9a"
      },
      "source": [
        "print(s1)"
      ],
      "execution_count": 95,
      "outputs": [
        {
          "output_type": "stream",
          "text": [
            "Name:Tom,Avg:68.4,不及格:2\n"
          ],
          "name": "stdout"
        }
      ]
    },
    {
      "cell_type": "code",
      "metadata": {
        "id": "afzZNpKrP0O1",
        "colab_type": "code",
        "colab": {}
      },
      "source": [
        "s2.add_grade(58)\n",
        "s2.add_grade(87)\n",
        "s3.add_grade(100)\n",
        "s3.add_grade(100)\n",
        "s4.add_grade(40)\n",
        "s4.add_grade(55)\n",
        "s5.add_grade(60)\n",
        "s5.add_grade(60)"
      ],
      "execution_count": 0,
      "outputs": []
    },
    {
      "cell_type": "code",
      "metadata": {
        "id": "nXG0AMdeQX6c",
        "colab_type": "code",
        "colab": {
          "base_uri": "https://localhost:8080/",
          "height": 102
        },
        "outputId": "805cd07b-557f-4e8d-ff2d-adf26bb7eb56"
      },
      "source": [
        "print(s1)\n",
        "print(s2)\n",
        "print(s3)\n",
        "print(s4)\n",
        "print(s5)\n"
      ],
      "execution_count": 97,
      "outputs": [
        {
          "output_type": "stream",
          "text": [
            "Name:Tom,Avg:68.4,不及格:2\n",
            "Name:Jane,Avg:72.5,不及格:1\n",
            "Name:John,Avg:100.0,不及格:0\n",
            "Name:Ann,Avg:47.5,不及格:2\n",
            "Name:Peter,Avg:60.0,不及格:0\n"
          ],
          "name": "stdout"
        }
      ]
    },
    {
      "cell_type": "code",
      "metadata": {
        "id": "gsplBtybTMdL",
        "colab_type": "code",
        "colab": {}
      },
      "source": [
        ""
      ],
      "execution_count": 0,
      "outputs": []
    }
  ]
}